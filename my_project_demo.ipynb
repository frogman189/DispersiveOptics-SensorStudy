{
 "cells": [
  {
   "cell_type": "markdown",
   "id": "b0141a3b",
   "metadata": {},
   "source": [
    "## Imports"
   ]
  },
  {
   "cell_type": "code",
   "execution_count": null,
   "id": "faff23c3",
   "metadata": {},
   "outputs": [],
   "source": [
    "import numpy as np\n",
    "from kwave.kgrid import kWaveGrid\n",
    "from kwave.kmedium import kWaveMedium\n",
    "from kwave.ksource import kSource\n",
    "from kwave.ksensor import kSensor\n",
    "from kwave.options.simulation_options import SimulationOptions\n",
    "from kwave.options.simulation_execution_options import SimulationExecutionOptions\n",
    "from kwave.kspaceFirstOrder3D import kspaceFirstOrder3D\n",
    "from kwave.kspaceFirstOrder2D import kspaceFirstOrder2D\n",
    "import matplotlib.pyplot as plt\n",
    "from scipy.fft import fft, fftfreq\n",
    "from scipy.integrate import trapezoid\n",
    "from scipy.signal import find_peaks\n",
    "from scipy.signal import correlate\n",
    "from scipy.signal import fftconvolve  # faster for long templates"
   ]
  }
 ],
 "metadata": {
  "language_info": {
   "name": "python"
  }
 },
 "nbformat": 4,
 "nbformat_minor": 5
}
